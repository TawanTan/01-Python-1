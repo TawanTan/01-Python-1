{
 "cells": [
  {
   "cell_type": "code",
   "execution_count": 4,
   "metadata": {},
   "outputs": [
    {
     "name": "stdout",
     "output_type": "stream",
     "text": [
      "[2, 9, 1, 81, 32]\n"
     ]
    }
   ],
   "source": [
    "#กำหนดให้ A = [1, 2, 3, 4, 5] และ B = [2, 3, 1, 3, 2] จงเขียน Map แบบ Multiple-list operations โดยให้ B ยกกำลังด้วย A พร้อมกับแสดงผล\n",
    "A = [1,2,3,4,5]\n",
    "B = [2,3,1,3,2]\n",
    "\n",
    "def func(x,y):\n",
    "    return y**x\n",
    "\n",
    "r = map(func, A, B)\n",
    "print(list(r))"
   ]
  },
  {
   "cell_type": "code",
   "execution_count": 6,
   "metadata": {},
   "outputs": [
    {
     "name": "stdout",
     "output_type": "stream",
     "text": [
      "[('Tung', 1, 80), ('Sun', 2, 81), ('Arm', 3, 82), ('Aom', 4, 83), ('Tong', 5, 84)]\n"
     ]
    }
   ],
   "source": [
    "#จงเขียนชื่อนักเรียน เลขที่ และคะแนนสอบไฟนอล พร้อมกับใช้คำสั่ง Zip() ในการจับคู่พร้อมกับแสดงผลลัพธ์ที่ถูกต้อง\n",
    "Name = ['Tung', 'Sun', 'Arm', 'Aom', 'Tong']\n",
    "No = [1, 2, 3 , 4, 5]\n",
    "Score = [80, 81, 82, 83, 84]\n",
    "\n",
    "mapped = list(zip(Name, No, Score))\n",
    "\n",
    "print (mapped)"
   ]
  }
 ],
 "metadata": {
  "kernelspec": {
   "display_name": "Python 3",
   "language": "python",
   "name": "python3"
  },
  "language_info": {
   "codemirror_mode": {
    "name": "ipython",
    "version": 3
   },
   "file_extension": ".py",
   "mimetype": "text/x-python",
   "name": "python",
   "nbconvert_exporter": "python",
   "pygments_lexer": "ipython3",
   "version": "3.7.7"
  }
 },
 "nbformat": 4,
 "nbformat_minor": 4
}
