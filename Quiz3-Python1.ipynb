{
 "cells": [
  {
   "cell_type": "code",
   "execution_count": 19,
   "metadata": {},
   "outputs": [
    {
     "name": "stdout",
     "output_type": "stream",
     "text": [
      "['Prayut', 'Chanocha', 66]\n"
     ]
    }
   ],
   "source": [
    "#สร้างลิสต์ระบุชื่อ นามสกุล อายุ ตัวเอง\n",
    "lst = ['Prayut', 'Chanocha', 66]\n",
    "print(lst)"
   ]
  },
  {
   "cell_type": "code",
   "execution_count": 20,
   "metadata": {},
   "outputs": [
    {
     "name": "stdout",
     "output_type": "stream",
     "text": [
      "['Prayut', 'Chanocha']\n"
     ]
    }
   ],
   "source": [
    "#ลบอายุออกจากลิสต์ \n",
    "del lst[2]\n",
    "print(lst)"
   ]
  },
  {
   "cell_type": "code",
   "execution_count": 21,
   "metadata": {},
   "outputs": [
    {
     "name": "stdout",
     "output_type": "stream",
     "text": [
      "[56, 'Prayut', 'Chanocha']\n"
     ]
    }
   ],
   "source": [
    "#ลดอายุตัวเอง 10 ปี และแทรกไว้หน้าสุดของลิสต์\n",
    "lst.insert(0,56)\n",
    "print(lst)"
   ]
  },
  {
   "cell_type": "code",
   "execution_count": 30,
   "metadata": {},
   "outputs": [
    {
     "name": "stdout",
     "output_type": "stream",
     "text": [
      "[56, 'Prayut', 'Chanocha', 170, 75]\n"
     ]
    }
   ],
   "source": [
    "#เพิ่มส่วนสูง น้ำหนักลงในลิสต์ โดยไปต่อท้าย\n",
    "lst.append(170)\n",
    "lst.append(75)\n",
    "print(lst)"
   ]
  },
  {
   "cell_type": "code",
   "execution_count": 31,
   "metadata": {},
   "outputs": [
    {
     "name": "stdout",
     "output_type": "stream",
     "text": [
      "['Chanocha', 170, 75]\n"
     ]
    }
   ],
   "source": [
    "#Print สมาชิกในลิสต์ตัวที่ 3 ถึงตัวสุดท้าย\n",
    "print(lst[2:])"
   ]
  }
 ],
 "metadata": {
  "kernelspec": {
   "display_name": "Python 3",
   "language": "python",
   "name": "python3"
  },
  "language_info": {
   "codemirror_mode": {
    "name": "ipython",
    "version": 3
   },
   "file_extension": ".py",
   "mimetype": "text/x-python",
   "name": "python",
   "nbconvert_exporter": "python",
   "pygments_lexer": "ipython3",
   "version": "3.7.7"
  }
 },
 "nbformat": 4,
 "nbformat_minor": 4
}
