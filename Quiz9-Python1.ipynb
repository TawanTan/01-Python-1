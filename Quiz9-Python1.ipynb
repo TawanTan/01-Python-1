{
 "cells": [
  {
   "cell_type": "code",
   "execution_count": 1,
   "metadata": {},
   "outputs": [
    {
     "name": "stdout",
     "output_type": "stream",
     "text": [
      "244140625\n"
     ]
    }
   ],
   "source": [
    "#กำหนดให้ lst = [5, 2, 1, 3, 2] จงเขียนฟังก์ชั่น Reduce เพื่อหาผลลัพท์สุดท้ายของดำเนินการแบบเลขยกกำลัง \n",
    "from functools import reduce\n",
    "\n",
    "lst = [5,2,1,3,2]\n",
    "Power = reduce((lambda x,y: x**y), lst)\n",
    "print(Power)"
   ]
  },
  {
   "cell_type": "code",
   "execution_count": 2,
   "metadata": {},
   "outputs": [
    {
     "name": "stdout",
     "output_type": "stream",
     "text": [
      "3628800\n"
     ]
    }
   ],
   "source": [
    "#กำหนดให้ lst = [1,2,3,4,5,6,7,8,9,10] จงเขียนฟังก์ชั่น Reduce เพื่อหาผลลัพท์สุดท้ายของดำเนินการแบบการคูณ\n",
    "lst2 = [1,2,3,4,5,6,7,8,9,10]\n",
    "Multiply = reduce((lambda x,y: x*y), lst2)\n",
    "print(Multiply)"
   ]
  }
 ],
 "metadata": {
  "kernelspec": {
   "display_name": "Python 3",
   "language": "python",
   "name": "python3"
  },
  "language_info": {
   "codemirror_mode": {
    "name": "ipython",
    "version": 3
   },
   "file_extension": ".py",
   "mimetype": "text/x-python",
   "name": "python",
   "nbconvert_exporter": "python",
   "pygments_lexer": "ipython3",
   "version": "3.7.7"
  }
 },
 "nbformat": 4,
 "nbformat_minor": 4
}
