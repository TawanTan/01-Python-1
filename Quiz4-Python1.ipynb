{
 "cells": [
  {
   "cell_type": "code",
   "execution_count": 1,
   "metadata": {},
   "outputs": [
    {
     "name": "stdout",
     "output_type": "stream",
     "text": [
      "6\n"
     ]
    }
   ],
   "source": [
    "#a = [[[1,3],[3,4]],[5,[5,6],[7,8]]] แล้ว a[1][1][1] คือค่าใด\n",
    "a = [[[1,3],[3,4]],[5,[5,6],[7,8]]]\n",
    "print(a[1][1][1])"
   ]
  },
  {
   "cell_type": "code",
   "execution_count": 2,
   "metadata": {},
   "outputs": [
    {
     "name": "stdout",
     "output_type": "stream",
     "text": [
      "[['Somchai', 'Robkob', 55], ['Somsree', 'Meesee', 35], ['Somsak', 'Chitkob', 47], ['Sommit', 'Chobmak', 54]]\n"
     ]
    }
   ],
   "source": [
    "#เขียนชื่อนามสกุลอายุอยู่ในลิสต์เดียวของคน 4 คนแล้วใส่ไว้ในลิสต์ (Nested List) และแสดงผล\n",
    "name1 = ['Somchai', 'Robkob', 55]\n",
    "name2 = ['Somsree', 'Meesee', 35]\n",
    "name3 = ['Somsak', 'Chitkob', 47]\n",
    "name4 = ['Sommit', 'Chobmak', 54]\n",
    "\n",
    "all_name = [name1, name2, name3, name4]\n",
    "print(all_name)"
   ]
  },
  {
   "cell_type": "code",
   "execution_count": 4,
   "metadata": {},
   "outputs": [
    {
     "name": "stdout",
     "output_type": "stream",
     "text": [
      "[['Somchai', 'Robkob', 55], ['Somsree', 'Meesee', 35], ['Somsak', 'Chitkob', 47]]\n"
     ]
    }
   ],
   "source": [
    "#ลบคนสุดท้ายของลิสต์นั้นออกและแสดงผล\n",
    "del all_name[3]\n",
    "print(all_name)"
   ]
  },
  {
   "cell_type": "code",
   "execution_count": 6,
   "metadata": {},
   "outputs": [
    {
     "name": "stdout",
     "output_type": "stream",
     "text": [
      "[['Sompron', 'Hromdee', 28], ['Somchai', 'Robkob', 55], ['Somsree', 'Meesee', 35], ['Somsak', 'Chitkob', 47]]\n"
     ]
    }
   ],
   "source": [
    "#เพิ่มคนที่ 5 เข้ามาเป็นคนแรกของ Nested List และแสดงผล\n",
    "name5 = ['Sompron', 'Hromdee', 28]\n",
    "all_name.insert(0,name5)\n",
    "print(all_name)"
   ]
  },
  {
   "cell_type": "code",
   "execution_count": 11,
   "metadata": {},
   "outputs": [
    {
     "name": "stdout",
     "output_type": "stream",
     "text": [
      "[['Sompron', 'Hromdee', 28], ['Somchai', 'Robkob', 65], ['Somsree', 'Meesee', 35], ['Somsak', 'Chitkob', 47]]\n"
     ]
    }
   ],
   "source": [
    "#แก้ไขน้ำหนักคนที่สอง +10 และแสดงผล\n",
    "all_name[1][2] = 65\n",
    "print(all_name)"
   ]
  }
 ],
 "metadata": {
  "kernelspec": {
   "display_name": "Python 3",
   "language": "python",
   "name": "python3"
  },
  "language_info": {
   "codemirror_mode": {
    "name": "ipython",
    "version": 3
   },
   "file_extension": ".py",
   "mimetype": "text/x-python",
   "name": "python",
   "nbconvert_exporter": "python",
   "pygments_lexer": "ipython3",
   "version": "3.7.7"
  }
 },
 "nbformat": 4,
 "nbformat_minor": 4
}
